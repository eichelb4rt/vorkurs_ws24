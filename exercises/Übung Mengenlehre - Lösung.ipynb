{
 "cells": [
  {
   "cell_type": "markdown",
   "metadata": {},
   "source": [
    "# Übungen zur Mengenlehre\n",
    "\n",
    "In Python können wir Mengen mit Hilfe von `set([1,2,3])` angelegt werden. Weiter gibt es für Methoden um auf diesen zu arbeiten:\n",
    "* Vereinigung - `union` - `|`\n",
    "* Differenz - `difference` - `-`\n",
    "* Schnitt - `intersection` - `&`\n"
   ]
  },
  {
   "cell_type": "markdown",
   "metadata": {},
   "source": [
    "## Aufgabe 1 ##\n",
    "Geben Sie die folgenden Mengen in beschreibender Form an. Die beschreibende Menge für die aufgezählte Menge $\\{1,2,3,\\dots\\}$ wäre beispielsweise die Menge $\\{i|i\\in\\mathbb{N}\\}$.\n",
    " 1. $A = \\{1,2,3,\\dots\\} = \\{i|i\\in\\mathbb{N}\\}$,\n",
    " 2. $B = \\{-1,0,1\\} = \\{i|i > -2 \\text{ und } i < 2 \\text{ und } i\\in\\mathbb{Z}\\}$,\n",
    " 3. $C = \\{,\\dots, -2, -1, 0\\} = \\{i|i \\leq 0\\ \\text{ und } i\\in\\mathbb{Z}\\} = \\{-i| i \\in \\mathbb{N}_0\\} = \\{i|i\\in\\mathbb{Z}\\text{ und } i\\notin\\mathbb{N}\\}$,\n",
    " 4. $D = \\{0,1,2,4,8,16\\} = \\{2^i|i \\in \\{0,1,2,3,4\\}\\}\\cup\\{0\\}$."
   ]
  },
  {
   "cell_type": "markdown",
   "metadata": {},
   "source": [
    "## Aufgabe 2 ##\n",
    "Zählen Sie jeweils die Elemente der Menge auf.\n",
    " 1. $A=\\{i\\in\\mathbb{N}|1\\leq 2^i < 21\\} = \\{0,1,2,3,4\\}$,\n",
    " 2. $B=\\{i\\in\\mathbb{N}|1<i\\leq 4\\} = \\{2,3,4\\}$,\n",
    " 3. $C=\\{i\\in\\mathbb{N}|i^4 = 9\\}= \\emptyset$,\n",
    " 4. $D=\\{i\\in\\mathbb{N}|i\\in[1,10)\\} = \\{1,2,3,4,5,6,7,8,9\\}$."
   ]
  },
  {
   "cell_type": "markdown",
   "metadata": {},
   "source": [
    "## Aufgabe 3 ##\n",
    "Geben Sie alle acht Teilmengen von $\\{2,3,1\\}$ an.\n",
    "  $$\n",
    "   \\mathcal{P}(\\{2,3,1\\}) = \\{\\emptyset, \\{2\\}, \\{3\\}, \\{1\\}, \\{1,2\\}, \\{2,3\\}, \\{1,3\\}, \\{1,2,3\\}\\}\n",
    "  $$"
   ]
  },
  {
   "cell_type": "markdown",
   "metadata": {},
   "source": [
    "## Aufgabe 4 ## \n",
    "Vereinfachen Sie die folgenden Mengen:\n",
    " 1. $A\\cap A = A$,\n",
    " 2. $A\\cup A = A$,\n",
    " 3. $\\{0,1\\}\\cap\\{1\\} = \\{1\\}$,\n",
    " 4. $\\emptyset\\cap\\{1\\} = \\emptyset$,\n",
    " 5. $\\emptyset\\cup\\{0\\} = \\{0\\}$,\n",
    " 6. $A\\cap\\overline{A} = \\emptyset$."
   ]
  },
  {
   "cell_type": "markdown",
   "metadata": {},
   "source": [
    "## Aufgabe 5 ## \n",
    "Wieviele Elemente hat die Menge $M=\\{x|x^2 = 9, x\\in\\mathbb{R}\\} = \\{-3,3\\}$. Versuchen Sie auch dies in Python zu lösen."
   ]
  },
  {
   "cell_type": "code",
   "execution_count": 85,
   "metadata": {},
   "outputs": [
    {
     "name": "stdout",
     "output_type": "stream",
     "text": [
      "-3.000000000000025\n",
      "2.999999999999954\n",
      "-3.0\n",
      "3.0\n"
     ]
    }
   ],
   "source": [
    "import numpy as np\n",
    "\n",
    "def round(x, stellen=1):\n",
    "    return int(x*10**stellen)/10**stellen\n",
    "\n",
    "# x runden\n",
    "for x in np.arange(-10,10,0.1):\n",
    "    if np.isclose(x**2, 9):\n",
    "        print(x)\n",
    "        \n",
    "# Numerische Ungenauigkeit\n",
    "for x in np.arange(-10,10,0.1):\n",
    "    if round(x)**2 == 9:\n",
    "        print(round(x))"
   ]
  },
  {
   "cell_type": "markdown",
   "metadata": {},
   "source": [
    "## Aufgabe 6 ##\n",
    "Geben Sie drei mögliche Darstellungen der Menge der ersten zehn natürlichen Zahlen an.\n",
    "$$\n",
    "\\{1,2,3,4,5,6,7,8,9,10\\} = \\{i|i\\in\\mathbb{N} \\text{ und } i\\leq 10\\} = \\{-x|x\\in\\mathbb{Z} \\text{ und } -10\\leq x< 0\\} = [10]\n",
    "$$"
   ]
  },
  {
   "cell_type": "markdown",
   "metadata": {},
   "source": [
    "## Aufgabe 7 ##\n",
    "Geben Sie die folgenden Mengen als kartesische Produkte von Mengen an: Sei dazu $L = \\text{ Menge aller lateinichen Buchstaben }$.\n",
    " 1. Die Menge aller 4-Tupel, bei deinen an erster und letzter Stelle ein lateinischer Buchstabe steht und an allen anderen Stellen eine natürliche Zahl\n",
    " $$\n",
    " L\\times\\mathbb{N}\\times\\mathbb{N}\\times L = \\{(a,b,c,d)|a,d\\in L \\text{ und } b,c \\in \\mathbb{N}\\}\n",
    " $$\n",
    " 2. Die Menge aller 3-Tupel, bei deinen an der ersten Stelle ein lateinischer Buchstabe steht, an der zweiten Stelle eine natürliche Zahl und an der dritten Stelle entweder ein lateinischer Buchstabe oder eine Reelle Zahl.\n",
    " $$\n",
    " L\\times \\mathbb{N}\\times (L\\cup\\mathbb{R}) = \\{(a,b,c)|a\\in L \\text{ und } b\\in\\mathbb{N} \\text{ und } c\\in L\\cup\\mathbb{R}\\}\n",
    " $$"
   ]
  },
  {
   "cell_type": "code",
   "execution_count": 93,
   "metadata": {},
   "outputs": [
    {
     "name": "stdout",
     "output_type": "stream",
     "text": [
      "67600\n",
      "67600\n",
      "373248\n"
     ]
    }
   ],
   "source": [
    "L = list(\"abcdefghijklmnopqrstuvwxyz\")\n",
    "N = [1,2,3,4,5,6,7,8,9,10]\n",
    "A = []\n",
    "for a in L:\n",
    "    for b in N:\n",
    "        for c in N:\n",
    "            for d in L:\n",
    "                A.append((a,b,c,d))\n",
    "# print(A)\n",
    "print(len(A))\n",
    "print(26*10*10*26)"
   ]
  },
  {
   "cell_type": "markdown",
   "metadata": {},
   "source": [
    "## Aufgabe 8 ##\n",
    "Eine Versichungsunternehmen hat alle seine Kunden in der Menge `K` gespeichert. In der Menge `U` sind alle, die einen Unfall veruracht haben, in `S` alle die einen Strafzettel für zu schnelles fahren erhalten haben und in `A` alle die wegen Alkohol am Steuer verurteilt wurden.\n",
    "\n",
    "Zähle die folgenden Mengen mit Hilfe von Python und der `len` Operation und schreibe sie in der Mengenschreibweise auf.\n",
    " 1. Kunden, die alkoholisiert waren und einen Strafzettel erhalten haben\n",
    " 2. Kunden, die noch kein Vergehen haben\n",
    " 3. Kunden, die zu schnell gefahren sind oder getrunken haben\n",
    " 4. Kunden, die weder einen Unfall hatten noch einen Strafzettel bekommen haben"
   ]
  },
  {
   "cell_type": "code",
   "execution_count": 98,
   "metadata": {},
   "outputs": [
    {
     "name": "stdout",
     "output_type": "stream",
     "text": [
      "{'Madeleine Calvert', 'Zoha Stone', 'Emmanuel Owen'}\n",
      "\n",
      "{'Ava-May Ponce', 'Aidan Nielsen', 'Maxime Harper', 'Brodie Oliver'}\n",
      "{'Ava-May Ponce', 'Aidan Nielsen', 'Maxime Harper', 'Brodie Oliver'}\n",
      "\n",
      "{'Remi Dawe', 'Ashlee Wilde', 'Theon Bannister', 'Zoha Stone', 'Madeleine Calvert', 'Jacques Whitmore', 'Harriette Holman', 'Fariha Good', 'Teddie Reid', 'Rhian Marsh', 'Sophia-Rose Bowler', 'Adelina Webster', 'Emmanuel Owen', 'Aishah Morrison', 'Ameena Whitehouse', 'Harvir Reader', 'Hadi Yates', 'Serena Andrews'}\n",
      "{'Ashlee Wilde', 'Jacques Whitmore', 'Harriette Holman', 'Teddie Reid', 'Sophia-Rose Bowler', 'Adelina Webster', 'Emmanuel Owen', 'Aishah Morrison', 'Hadi Yates', 'Remi Dawe', 'Theon Bannister', 'Zoha Stone', 'Madeleine Calvert', 'Fariha Good', 'Rhian Marsh', 'Ameena Whitehouse', 'Harvir Reader', 'Serena Andrews'}\n",
      "\n",
      "{'Remi Dawe', 'Ashlee Wilde', 'Maxime Harper', 'Ava-May Ponce', 'Theon Bannister', 'Jacques Whitmore', 'Fariha Good', 'Brodie Oliver', 'Rhian Marsh', 'Aidan Nielsen', 'Sophia-Rose Bowler', 'Adelina Webster', 'Aishah Morrison', 'Serena Andrews'}\n",
      "{'Remi Dawe', 'Ashlee Wilde', 'Ava-May Ponce', 'Theon Bannister', 'Serena Andrews', 'Jacques Whitmore', 'Fariha Good', 'Brodie Oliver', 'Rhian Marsh', 'Sophia-Rose Bowler', 'Adelina Webster', 'Aidan Nielsen', 'Aishah Morrison', 'Maxime Harper'}\n"
     ]
    }
   ],
   "source": [
    "K = set([\"Teddie Reid\", \"Remi Dawe\", \"Madeleine Calvert\", \"Hadi Yates\", \"Aishah Morrison\", \"Beverly Cordova\", \"Harvir Reader\", \"Rhian Marsh\", \"Sabah Pennington\", \"Adelina Webster\", \"Ameena Whitehouse\", \"Zoha Stone\", \"Reo Bonilla\", \"Brodie Oliver\", \"Fariha Good\", \"Jacques Whitmore\", \"Emmanuel Owen\", \"Ava-May Ponce\", \"Madihah Bates\", \"Aidan Nielsen\", \"Maxime Harper\", \"Ashlee Wilde\", \"Sophia-Rose Bowler\", \"Harriette Holman\", \"Serena Andrews\", \"Theon Bannister\"])\n",
    "U = set(['Reo Bonilla', 'Teddie Reid', 'Hadi Yates', 'Harvir Reader', 'Madihah Bates', 'Ameena Whitehouse', 'Teddie Reid', 'Madeleine Calvert', 'Sabah Pennington', 'Madihah Bates', 'Beverly Cordova'])\n",
    "S = set(['Harriette Holman', 'Zoha Stone', 'Madeleine Calvert', 'Emmanuel Owen', 'Harriette Holman'])\n",
    "A = set(['Ameena Whitehouse', 'Fariha Good', 'Sophia-Rose Bowler', 'Teddie Reid', 'Hadi Yates', 'Zoha Stone', 'Remi Dawe', 'Rhian Marsh', 'Teddie Reid', 'Serena Andrews', 'Harvir Reader', 'Zoha Stone', 'Ashlee Wilde', 'Jacques Whitmore', 'Theon Bannister', 'Emmanuel Owen', 'Aishah Morrison', 'Madeleine Calvert', 'Rhian Marsh', 'Hadi Yates', 'Adelina Webster'])\n",
    "\n",
    "# insert code here\n",
    "# Wir haben jeweils verschiedene Alternative angegeben\n",
    "# 1. A geschnitten S\n",
    "print(S.intersection(A))\n",
    "print()\n",
    "\n",
    "# 2. K \\ U \\ S \\ A\n",
    "print(K.difference(U.union(S.union(A))))\n",
    "print(K.difference(U).difference(S).difference(A))\n",
    "print()\n",
    "\n",
    "# 3. S u A\n",
    "print(K.intersection(S.union(A)))\n",
    "print(S.union(A))\n",
    "print()\n",
    "\n",
    "# 4. K \\ (U u S)\n",
    "print(K.difference(U.union(S)))\n",
    "print(K.difference(U).difference(S))"
   ]
  },
  {
   "cell_type": "markdown",
   "metadata": {},
   "source": [
    "Gilt?\n",
    "$$\n",
    "K \\setminus  (U\\cup S) = (K \\setminus U) \\setminus S\n",
    "$$\n",
    "Wir fangen einfach mal an und stellen um\n",
    "$$ \n",
    "K \\setminus (U\\cup S) = K \\cap (\\overline{U\\cup S}) = K \\cap (\\overline{U} \\cap \\overline {S}) = (K \\cap \\overline{U}) \\cap \\overline{S} = (K\\setminus U) \\cap \\overline{S} = (K\\setminus U)\\setminus S\n",
    "$$"
   ]
  },
  {
   "cell_type": "code",
   "execution_count": null,
   "metadata": {},
   "outputs": [],
   "source": []
  }
 ],
 "metadata": {
  "kernelspec": {
   "display_name": "Python 3",
   "language": "python",
   "name": "python3"
  },
  "language_info": {
   "codemirror_mode": {
    "name": "ipython",
    "version": 3
   },
   "file_extension": ".py",
   "mimetype": "text/x-python",
   "name": "python",
   "nbconvert_exporter": "python",
   "pygments_lexer": "ipython3",
   "version": "3.7.3"
  }
 },
 "nbformat": 4,
 "nbformat_minor": 4
}

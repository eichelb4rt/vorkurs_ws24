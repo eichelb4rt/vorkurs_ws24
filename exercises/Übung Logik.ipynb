{
 "cells": [
  {
   "cell_type": "markdown",
   "metadata": {},
   "source": [
    "# Übung zu Logik # \n",
    "\n",
    "## Aufgabe 1 ##\n",
    "Sind die folgenden Aussagen wahr oder falsch? Und geben Sie bei falschen die korrekte Aussage an.\n",
    " 1. $\\overline{\\overline{a}\\land b} = a\\lor \\overline{b}$,\n",
    " 2. $\\overline{a\\lor\\overline{b}} = a\\land\\overline{b}$.\n",
    "\n",
    "## Aufgabe 2 ##\n",
    "Vereinfache.\n",
    " 1. $a\\land(\\overline{a}\\lor b)$,\n",
    " 2. $(a\\land\\overline{b})\\lor b$,\n",
    " 3. $(a\\land b)\\lor (a\\land \\overline{b})$.\n",
    "\n",
    "## Aufgabe 3 ##\n",
    "Seien $p$ und $q$ beliebige Aussagen. Geben Sie jeweils zu den Aussagen $p\\land q$, $p\\lor q$, $p\\rightarrow q$ und $p\\leftrightarrow q$ äquivalente Aussagen an, die nur die Verknüpfungen $\\lnot$ und $\\land$ verwenden. \n",
    "\n",
    "## Aufgabe 4 ##\n",
    "Graf Hubert wurde in seinem Arbeitszimmer ermordet. Der Arzt hat festgestellt, dass der Tod zwischen 9:30 und 10:30 Uhr eingetreten ist. Die Haushälterin von Graf Hubert ist um 10:00 vom Garten in die Küche gegangen. Um an der Haushälterin vorbeizukommen, muss der Mörder vor 10:00 mit einem Schlüssel durch die Eingangstür oder nach 10:00 durchs Fenster eingestiegen sein. Kommissar Berghammer vermutet einen der drei Erben A, B oder C als Mörder. A hat als einziger einen Schlüssel, kann aber wegen seines Gipsfußes nicht durchs Fenster eingestiegen sein. A und B haben beide keine Alibis für die Zeit nach 10:00 Uhr (wohl aber für die Zeit vor 10:00 Uhr) und C hat kein Alibi für die Zeit vor 10:00 (wohl aber für die Zeit nach 10:00 Uhr). \n",
    " \n",
    " Wer von den dreien kommt als Mörder in Frage? \n",
    " \n",
    "## Aufgabe 5 ##\n",
    "Seien $p$ und $q$ beliebige Aussagen. Beweisen Sie mit Hilfe von Umformungen die folgenden Tautologien.\n",
    " 1. $(p\\leftrightarrow q) \\leftrightarrow ((\\lnot p)\\leftrightarrow (\\lnot q))$\n",
    " 2. $(p\\land (p\\rightarrow q)) \\rightarrow q$\n",
    " 3. $\\lnot(p\\rightarrow q))\\leftrightarrow (p\\land \\lnot q)$\n",
    "\n",
    "## Aufgabe 6\n",
    "Stellen Sie fest, ob die zweite Aussage eine Verneinung der ersten Aussage ist. Falls dies nicht der Fall ist geben Sie eine korrekte Verneinung der ersten Aussage an.\n",
    " 1. Die Zahl 4 ist durch 2 teilbar. -- Die Zahl 4 ist durch 3 teilbar. \n",
    " 2. Alle natürlichen Zahlen sind gerade. -- Alle natürlichen Zahlen sind ungerade.\n",
    " 3. Jede gerade Zahl ist durch 4 teilbar. -- Es gibt eine gerade Zahl, die nicht durch 4 teilbar ist. \n",
    " 4. Es gibt eine natürliche Zahl, die nicht durch 1 teilbar ist. -- Es gibt eine natürliche Zahl, die durch 1 teilbar ist. \n",
    " \n",
    "## Aufgabe 7 ##\n",
    "Prüfen Sie, ob die folgenden Aussagen für beliebige Mengen $A,B,C\\neq\\emptyset$ gelten.\n",
    " 1. $(A\\cup B)\\times C = (A\\times C)\\cup (B\\times C)$\n",
    " 2. $(A\\setminus B)\\times C = (A\\times C)\\setminus(B\\times C)$\n",
    " 3. $(C\\times C)\\cup(A\\times B) = (C\\cup A)\\times (C\\cup B)$\n",
    " \n",
    "## Aufgabe 8 ##\n",
    "Erstelle in Python die vollständige Wahrheitswerttabelle für die folgende Aussage über $p,q,r,s,t$. Wie viele Belegungen machen diese Aussage wahr?\n",
    "$$\n",
    "    (\\lnot(\\lnot(p) \\land q \\lor r) \\land (s \\lor t) \\land (r \\land \\lnot(t)) \\land t) \\lor (r \\land \\lnot(t)) \\lor (s \\land \\lnot(p))\n",
    "$$"
   ]
  },
  {
   "cell_type": "code",
   "execution_count": 12,
   "metadata": {},
   "outputs": [],
   "source": [
    "# insert code here"
   ]
  }
 ],
 "metadata": {
  "kernelspec": {
   "display_name": "Python 3",
   "language": "python",
   "name": "python3"
  },
  "language_info": {
   "codemirror_mode": {
    "name": "ipython",
    "version": 3
   },
   "file_extension": ".py",
   "mimetype": "text/x-python",
   "name": "python",
   "nbconvert_exporter": "python",
   "pygments_lexer": "ipython3",
   "version": "3.7.3"
  }
 },
 "nbformat": 4,
 "nbformat_minor": 4
}

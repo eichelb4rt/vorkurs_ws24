{
 "cells": [
  {
   "cell_type": "markdown",
   "metadata": {},
   "source": [
    "# Algorithmik\n",
    "\n",
    "Es gibt keine Übung zu ALgorithmik - heute könnt ihr den Rest machen, den ihr in anderen Übungen nicht geschafft habt :)"
   ]
  }
 ],
 "metadata": {
  "language_info": {
   "name": "python"
  }
 },
 "nbformat": 4,
 "nbformat_minor": 2
}

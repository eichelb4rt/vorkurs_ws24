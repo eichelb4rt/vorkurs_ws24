{
 "cells": [
  {
   "cell_type": "markdown",
   "metadata": {},
   "source": [
    "# Python\n",
    "Python ist eine interpretierte Sprache und wurden 1991 von Guido van Rossum entwickelt. Man unterscheidet Python 2 und Python 3. Wir werden hier mit Python 3 arbeiten.\n",
    "\n",
    "## Installation und Start\n",
    "Python kann über die Website www.python.org heruntergeladen und installiert werden. In der Konsole kann die Pythonumgebung dann mit dem Befehl `python3` gestartet werden. \n",
    "\n",
    "Wir werden hier ein Jupyter Notebook verwenden.\n",
    "\n",
    "## Jupyter Notebook\n",
    "Ein Jupyter Notebook erlaubt uns Programmcode direkt auszuführen. Hierfür können wir in einer Zelle einfach **Shift + Enter** klicken und der Inhalt wird ausgeführt und ausgewertet. Um eine Zelle zu bearbeiten klickt man einfach in die Zelle.\n",
    "\n",
    "## Python Objekte, Basistypen und Variablen\n",
    "Alles in Python ist ein Objekt und hat einen Typ. Einige Typen sind:\n",
    "* **`int`** (Integer, eine ganze Zahl)\n",
    "    * `4`\n",
    "    * `-6`\n",
    "* **`float`** (Float, eine Gleitkommazahl)\n",
    "    * `4.4`\n",
    "    * `-0.013`\n",
    "* **`str`** (String, Zeichenketten welche in Anführungsstrichen stehen)\n",
    "    * `'Dies ist ein String in einfachen Hochkommas.'`\n",
    "    * `\"Dies ist ein String in doppelten Hochkommas.\"`\n",
    "* **`bool`** (Boolean, Wahrheitswerte die entweder wahr oder falsch sind)\n",
    "    * `True`\n",
    "    * `False`\n",
    "* **NoneType**\n",
    "    * `None`\n",
    "\n",
    "Eine Variable ist einfach ein Name welchen man ein Objekt zuordnet. Beispielsweise weist `a=3.4` der Variablen `a` den Wert `3.4` zu. Im Programmcode kann dann durch den Variablennamen auf diesen Wert verwiesen werden. Variablennamen dürfen Buchstaben, Zahlen und Unterstriche enthalten, wobei sie nicht mit einer Zahl starten dürfen.\n",
    "\n",
    "## Basis Operatoren\n",
    "Es gibt verschiedene Operatoren welche auf verschiedenen Werten arbeiten und durch spezielle Symbole gekennzeichnet werden. Eine Auswahl beeinhaltet:\n",
    "* Arithmetische Operationen\n",
    "    * `+` (Addition)\n",
    "    * `-` (Subtraktion)\n",
    "    * `*` (Multiplikation)\n",
    "    * `/`(Division)\n",
    "    * `**` (Exponent)\n",
    "* Zuweisungsoperatoren\n",
    "    * `=` (Zuweisung eines Wertes)\n",
    "    * `+=` (Addition und erneute Zuweisung eines Wertes)\n",
    "    * `-=` (Subtraktion und erneute Zuweisung eines Wertes)\n",
    "    * `*=` (Multiplikation und erneute Zuweisung eines Wertes)\n",
    "* Vergleichoperatoren (liefern `True` oder `False`)\n",
    "    * `==` (Gleichheit)\n",
    "    * `!=` (Ungleich)\n",
    "    * `<` (Kleiner)\n",
    "    * `<=` (Kleiner Gleich)\n",
    "    * `>` (Größer)\n",
    "    * `>=` (Größer Gleich)\n",
    "* Logische Operatoren (Verknüpfen Aussagen, die `True` oder `False` liefern\n",
    "    * `and` (Und)\n",
    "    * `or` (Oder)\n",
    "    * `not` (Nicht)\n",
    "    \n",
    "Operatoren können mithilfe von Klammern `()` gruppiert werden. Außerdem gibt es eine Ausführungsreihenfolge, welche die folgende Liste von oben nach unten liefert:\n",
    "1. `()`\n",
    "2. `**`\n",
    "3. `*,/`\n",
    "4. `+,-`\n",
    "5. `==, !=, <, <=, >, >=`\n",
    "\n",
    "Umso weiter unten ein Operator steht umso später wird diese ausgeführt.\n",
    "\n",
    "## Kommentare\n",
    "In Python werden Kommentare (nicht ausgewerteter Code) mit einem Doppelkreuz (`#`) begonnen.\n",
    "\n",
    "## Beispiel\n",
    "In diesem Beispiel werden zwei Variablen `a` und `b` erzeugt und ihnen die Werte `1` und `2` hinzugefügt. Diese werden mit verschiedenen Operationen verknüpft."
   ]
  },
  {
   "cell_type": "code",
   "execution_count": null,
   "metadata": {},
   "outputs": [],
   "source": [
    "a = 1\n",
    "b = 2"
   ]
  },
  {
   "cell_type": "code",
   "execution_count": null,
   "metadata": {},
   "outputs": [],
   "source": [
    "a+b"
   ]
  },
  {
   "cell_type": "code",
   "execution_count": null,
   "metadata": {},
   "outputs": [],
   "source": [
    "a**2 - b"
   ]
  },
  {
   "cell_type": "code",
   "execution_count": null,
   "metadata": {},
   "outputs": [],
   "source": [
    "a-b == b-a"
   ]
  },
  {
   "cell_type": "markdown",
   "metadata": {},
   "source": [
    "## Aufgaben\n",
    "* Legen zwei Variablen `alter` und `name` mit deinem Alter und deinem Namen. Versuche danach folgenden Satz auszugeben: \"_name_ ist _alter_*12 Monate alt.\" _Hinweis: `str(4)` übersetzt die Zahl 4 in eine Zeichenkette, `print('hallo')` gibt `'hallo'` aus._\n",
    "* Addiere zwei Zahlen\n",
    "* Teile durch Null"
   ]
  },
  {
   "cell_type": "code",
   "execution_count": null,
   "metadata": {},
   "outputs": [],
   "source": [
    "# Hier kommt dein Lösungscode, den du mit Shift+Enter ausführen kannst."
   ]
  },
  {
   "cell_type": "markdown",
   "metadata": {},
   "source": [
    "## Kontrollstrukturen\n",
    "### Verzweigungen (`if`)\n",
    "Häufig möchte man aufgrund einer Bedingung den Programmcode unterbrechen. Python liefert uns dafür die `if`, `elif` und `else` Befehle. Diese erhalten nachfolgend (bis auf `else`) einen Ausdruck der zu `True` oder `False` ausgewertet werden kann. Darauf folgt ein Doppelpunkt und in der nächsten Zeile mit einem TAB eingerückt der Programmcode, der ausgeführt werden soll, wenn der Ausdruck wahr ist. Folgendes Beispiel verdeutlicht die Benutzung der Verzweigung. Wir verwenden den `print` Befehl um etwas auszugeben."
   ]
  },
  {
   "cell_type": "code",
   "execution_count": null,
   "metadata": {},
   "outputs": [],
   "source": [
    "alter = 30\n",
    "if alter <= 12:\n",
    "    print(\"Du bist ein Teen.\")\n",
    "elif alter < 65:\n",
    "    print(\"Du musst leider noch arbeiten.\")\n",
    "else:\n",
    "    print(\"Du ist alt.\")"
   ]
  },
  {
   "cell_type": "markdown",
   "metadata": {},
   "source": [
    "Da wir zwischen `12` und `65` sind müssen wir leider noch arbeiten. \n",
    "\n",
    "### Aufgaben\n",
    "* Verändere das obige Programm (einfach in die Zelle klicken und danach mit Shift+Enter bestätigen) in die Richtung, dass man nun bis `70` arbeiten muss. Lege nach `alter` eine zusätzliche Variable `reich` an, welche entweder `True` oder `False` sein kann. Wenn man jünger als `70` ist und `reich`, dann muss man nicht arbeiten. Fügen Sie diese Verzweigung hinzu.\n",
    "* Sortiere zwei vorher festgelegte Zahlen mithilfe von Verzweigungen. \n",
    "* Sortiere drei vorher festgelegte Zahlen und gib sie in der Richtigen Reihenfolge aus.\n",
    "* Überprüfe, ob ein Jahr ein Schaltjahr ist. Dabei gelten folgende Regeln:\n",
    "    * Jahr ist nicht durch vier teilbar -> kein Schaltjahr\n",
    "    * Jahr durch 4 teilbar -> Schaltjahr\n",
    "    * Jahr durch 100 teilbar -> kein Schaltjahr\n",
    "    * Jahr durch 400 teilbar -> Schaltjahr"
   ]
  },
  {
   "cell_type": "code",
   "execution_count": null,
   "metadata": {},
   "outputs": [],
   "source": [
    "# Lösung"
   ]
  },
  {
   "cell_type": "markdown",
   "metadata": {},
   "source": [
    "### Schleifen (`for`, `while`)\n",
    "Wenn man Programmcode mehrfach ausführen möchte bieten sich hierfür Schleifen an. Python verwendet für diese die Schlüsselworte `while` und `for`. Auch diese erhalten einen Ausdruck und werden mit einem Doppelpunkt eingeführt. Die `for` Schleife läuft dabei immer über eine Liste von Objekten (wir erfahren gleich was eine Liste ist), deshalb ist die Syntax für diese `for _object_ in _liste_`, wobei in jedem Schleifenschritt ein Objekt der Liste sich in `_objekt_` befindet. Es bietet sich auch der Befehl `range(start, stop, schritt)` an. Diesem können bis zu drei Parameter übergeben werden. So kann man mit `range(1,10,2)` die Zahlen `1,3,5,7,9` erhalten. Das folgende Beispiel zeigt dies im Code sowohl für die `for` als auch die `while` Schleife."
   ]
  },
  {
   "cell_type": "code",
   "execution_count": null,
   "metadata": {},
   "outputs": [],
   "source": [
    "start = 1\n",
    "stop = 10\n",
    "schritt = 2\n",
    "\n",
    "print(\"For Schleife:\")\n",
    "\n",
    "for i in range(start, stop, schritt):\n",
    "    print(i)\n",
    "\n",
    "print(\"While Schleife:\")\n",
    "object_variable = start\n",
    "while object_variable < stop:\n",
    "    print(object_variable)\n",
    "    object_variable += 2"
   ]
  },
  {
   "cell_type": "markdown",
   "metadata": {},
   "source": [
    "### Aufgaben\n",
    "* Versuche den obigen Quelltext zu verstehen. Kannst du eine `for` und `while` Schleife angeben, welche die ersten zehn Zweierpotenzen ausgibt (1,2,4,...,1024).\n",
    "* Gebe einen beliebigen Text vier mal aus.\n",
    "* Bilde die Summe für ein vorher festgelegtes n als $$\\sum_{i=1}^n \\frac{1}{i}$$ (Beispiel n=100 liefert 5.187377517639621). (Beispiel: n=100 liefert 5.187377517639621, **Hinweis:** range(1, 100) enthält nur die Zahlen 0 - 99.)\n",
    "* Berechne für eine feste Zahl die Fakultät."
   ]
  },
  {
   "cell_type": "code",
   "execution_count": null,
   "metadata": {},
   "outputs": [],
   "source": [
    "# Lösung"
   ]
  },
  {
   "cell_type": "markdown",
   "metadata": {},
   "source": [
    "### Listen\n",
    "Die Liste ist ein Basiscontainer in Python. In einen Container kann man beliebige Objekte sammeln. Listen werden mit eckigen Klammern erstellt oder einfach mit dem Befehl `list()`. Um einer Liste etwas hinzuzufügen benutzt man den Befehl `append()`. Weitere Befehle findet man unter docs.python.org/3/tutorial/datastructures.html. Um über eine Liste zu iterieren benötigt man häufig die Länge einer Liste dies liefert der Befehl `len`. Wir zeigen die Verwendung einer Liste in dem folgenden Beispiel."
   ]
  },
  {
   "cell_type": "code",
   "execution_count": null,
   "metadata": {},
   "outputs": [],
   "source": [
    "liste = [3, 4.5, 'Hund', True]\n",
    "laenge_liste = len(liste)\n",
    "print(\"Die Liste hat \" + str(laenge_liste) + \" viele Elemente.\")\n",
    "\n",
    "# Iterieren über eine Liste\n",
    "for i in liste:\n",
    "    print(i)\n",
    "\n",
    "# Zugriff über Index i\n",
    "for i in range(laenge_liste):\n",
    "    print(liste[i])"
   ]
  },
  {
   "cell_type": "markdown",
   "metadata": {},
   "source": [
    "### Aufgaben\n",
    "* Füge zwei Listen zusammen.\n",
    "* Entferne ein Element aus einer Liste.\n",
    "* Trenne eine Liste an einem gegebenen Index in zwei Teillisten (Hinweis: Lege neue Listen an.)"
   ]
  },
  {
   "cell_type": "code",
   "execution_count": null,
   "metadata": {},
   "outputs": [],
   "source": [
    "# Lösung"
   ]
  },
  {
   "cell_type": "markdown",
   "metadata": {},
   "source": [
    "### Aufgabe\n",
    "Bestimme alle Primzahlen von 2 bis 100 mithilfe des [Sieb des Eratostenes](https://de.wikipedia.org/wiki/Sieb_des_Eratosthenes)."
   ]
  },
  {
   "cell_type": "code",
   "execution_count": null,
   "metadata": {},
   "outputs": [],
   "source": [
    "# Lösung"
   ]
  },
  {
   "cell_type": "markdown",
   "metadata": {},
   "source": [
    "### Aufgabe\n",
    "Schreibe die Zahl 100,000 als das Produkt von zwei Zahlen, die beide keine Null beinhalten.\n",
    "\n",
    "_Hinweis: `list(str(zahl))` liefert eine Zahl als Liste von String Objekten._"
   ]
  },
  {
   "cell_type": "code",
   "execution_count": 3,
   "metadata": {},
   "outputs": [],
   "source": [
    "# Lösung"
   ]
  },
  {
   "cell_type": "markdown",
   "metadata": {},
   "source": [
    "### Aufgabe \n",
    "Ziehen Sie mithilfe von Numpy zwei Zufallszahlen. Wie kann man damit $\\pi$ approximieren?"
   ]
  },
  {
   "cell_type": "code",
   "execution_count": null,
   "metadata": {},
   "outputs": [],
   "source": [
    "# Lösung"
   ]
  },
  {
   "cell_type": "markdown",
   "metadata": {},
   "source": [
    "### Aufgabe\n",
    "Schreibe 1000000 als das Produkt von 2 Zahlen welche keine Nullen enthalten."
   ]
  },
  {
   "cell_type": "code",
   "execution_count": null,
   "metadata": {},
   "outputs": [],
   "source": [
    "# Lösung"
   ]
  },
  {
   "cell_type": "markdown",
   "metadata": {},
   "source": [
    "### Aufgabe \n",
    "Finde die kleinste natürliche Zahl die auf 6 endet und wenn man die 6 am Ende entfernt und an den Anfang stellt, vier mal so groß ist wie die ursprüngliche Zahl."
   ]
  },
  {
   "cell_type": "code",
   "execution_count": 1,
   "metadata": {},
   "outputs": [],
   "source": [
    "# Lösung"
   ]
  },
  {
   "cell_type": "markdown",
   "metadata": {},
   "source": [
    "### Aufgabe\n",
    "Ein Pythagoreisches Tripel ist eine Menge von drei natürlichen Zahlen $a<b<c$ für welche gilt:\n",
    " $$\n",
    "  a^2+b^2 = c^2\n",
    " $$\n",
    " Es gibt ein Tripel, für das gilt $a+b+c=1000$. Wie lautet das Produkt $abc$ dieses Tripel?"
   ]
  },
  {
   "cell_type": "code",
   "execution_count": 3,
   "metadata": {},
   "outputs": [],
   "source": [
    "# Lösung"
   ]
  },
  {
   "cell_type": "markdown",
   "metadata": {},
   "source": [
    "### Aufgabe\n",
    "Die Primfaktoren von $13195$ sind $5,7,13$ und $29$. Was ist der größte Primfaktor von $600851475143$?"
   ]
  },
  {
   "cell_type": "code",
   "execution_count": null,
   "metadata": {},
   "outputs": [],
   "source": [
    "# Lösung"
   ]
  }
 ],
 "metadata": {
  "kernelspec": {
   "display_name": "Python 3",
   "language": "python",
   "name": "python3"
  },
  "language_info": {
   "codemirror_mode": {
    "name": "ipython",
    "version": 3
   },
   "file_extension": ".py",
   "mimetype": "text/x-python",
   "name": "python",
   "nbconvert_exporter": "python",
   "pygments_lexer": "ipython3",
   "version": "3.7.3"
  }
 },
 "nbformat": 4,
 "nbformat_minor": 1
}

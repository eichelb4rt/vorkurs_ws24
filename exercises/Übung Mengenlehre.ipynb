{
 "cells": [
  {
   "cell_type": "markdown",
   "metadata": {},
   "source": [
    "# Übungen zur Mengenlehre\n",
    "\n",
    "In Python können wir Mengen mit Hilfe von `set([1,2,3])` angelegt werden. Weiter gibt es für Methoden um auf diesen zu arbeiten:\n",
    "* Vereinigung - `union` - `|`\n",
    "* Differenz - `difference` - `-`\n",
    "* Schnitt - `intersection` - `&`\n",
    "\n",
    "Zur Wiederholung bearbeiten Sie bitte zuerst die folgenden Übungen.\n",
    "\n",
    "## Aufgabe 1 ##\n",
    "Geben Sie die folgenden Mengen in beschreibender Form an. Die beschreibende Menge für die aufgezählte Menge $\\{1,2,3,\\dots\\}$ wäre beispielsweise die Menge $\\{i|i\\in\\mathbb{N}\\}$.\n",
    " 1. $A = \\{1,2,3,\\dots\\}$,\n",
    " 2. $B = \\{-1,0,1\\}$,\n",
    " 3. $C = \\{,\\dots, -2, -1, 0\\}$,\n",
    " 4. $D = \\{0,1,2,4,8,16\\}$.\n",
    " \n",
    "## Aufgabe 2 ##\n",
    "Zählen Sie jeweils die Elemente der Menge auf.\n",
    " 1. $A=\\{i\\in\\mathbb{N}|1\\leq 2^i < 21\\}$,\n",
    " 2. $B=\\{i\\in\\mathbb{N}|1<i\\leq 4\\}$,\n",
    " 3. $C=\\{i\\in\\mathbb{N}|i^4 = 9\\}$,\n",
    " 4. $D=\\{i\\in\\mathbb{N}|i\\in[1,10)\\}$.\n",
    "  \n",
    "## Aufgabe 3 ##\n",
    "Geben Sie alle acht Teilmengen von $\\{2,3,1\\}$ an.\n",
    "\n",
    "  $$\n",
    "   \\mathcal{P}(\\{2,3,1\\} = \n",
    "  $$\n",
    "\n",
    "## Aufgabe 4 ## \n",
    "Vereinfachen Sie die folgenden Mengen:\n",
    " 1. $A\\cap A$,\n",
    " 2. $A\\cup A$,\n",
    " 3. $\\{0,1\\}\\cap\\{1\\}$,\n",
    " 4. $\\emptyset\\cap\\{1\\}$,\n",
    " 5. $\\emptyset\\cup\\{0\\}$,\n",
    " 6. $A\\cap\\overline{A}$.\n",
    " \n",
    "## Aufgabe 5 ## \n",
    "Wieviele Elemente hat die Menge $M=\\{x|x^2 = 9, x\\in\\mathbb{R}\\}$. Versuchen Sie auch dies in Python zu lösen.\n",
    "\n",
    "## Aufgabe 6 ##\n",
    "Geben Sie drei mögliche Darstellungen der Menge der ersten zehn natürlichen Zahlen an.\n",
    "\n",
    "## Aufgabe 7 ##\n",
    "Geben Sie die folgenden Mengen als kartesische Produkte von Mengen an:\n",
    " 1. Die Menge aller 4-Tupel, bei deinen an erster und letzter Stelle ein lateinischer Buchstabe steht und an allen anderen Stellen eine natürliche Zahl\n",
    " 2. Die Menge aller 3-Tupel, bei deinen an der ersten Stelle ein lateinischer Buchstabe steht, an der zweiten Stelle eine natürliche Zahl und an der dritten Stelle entweder ein lateinischer Buchstabe oder eine Reelle Zahl.\n",
    " \n",
    "## Aufgabe 8 ##\n",
    "Eine Versichungsunternehmen hat alle seine Kunden in der Menge `K` gespeichert. In der Menge `U` sind alle, die einen Unfall veruracht haben, in `S` alle die einen Strafzettel für zu schnelles fahren erhalten haben und in `A` alle die wegen Alkohol am Steuer verurteilt wurden.\n",
    "\n",
    "Zähle die folgenden Mengen mit Hilfe von Python und der `len` Operation und schreibe sie in der Mengenschreibweise auf.\n",
    " 1. Kunden, die alkoholisiert waren und einen Strafzettel erhalten haben\n",
    " 2. Kunden, die noch kein Vergehen haben\n",
    " 3. Kunden, die zu schnell gefahren sind oder getrunken haben\n",
    " 4. Kunden, die weder einen Unfall hatten noch einen Strafzettel bekommen haben"
   ]
  },
  {
   "cell_type": "code",
   "execution_count": 31,
   "metadata": {},
   "outputs": [],
   "source": [
    "K = set([\"Teddie Reid\", \"Remi Dawe\", \"Madeleine Calvert\", \"Hadi Yates\", \"Aishah Morrison\", \"Beverly Cordova\", \"Harvir Reader\", \"Rhian Marsh\", \"Sabah Pennington\", \"Adelina Webster\", \"Ameena Whitehouse\", \"Zoha Stone\", \"Reo Bonilla\", \"Brodie Oliver\", \"Fariha Good\", \"Jacques Whitmore\", \"Emmanuel Owen\", \"Ava-May Ponce\", \"Madihah Bates\", \"Aidan Nielsen\", \"Maxime Harper\", \"Ashlee Wilde\", \"Sophia-Rose Bowler\", \"Harriette Holman\", \"Serena Andrews\", \"Theon Bannister\"])\n",
    "U = set([\"Reo Bonilla\", \"Teddie Reid\", \"Hadi Yates\", \"Harvir Reader\", \"Madihah Bates\", \"Ameena Whitehouse\", \"Teddie Reid\", \"Madeleine Calvert\", \"Sabah Pennington\", \"Madihah Bates\", \"Beverly Cordova\"])\n",
    "S = set([\"Harriette Holman\", \"Zoha Stone\", \"Madeleine Calvert\", \"Emmanuel Owen\", \"Harriette Holman\"])\n",
    "A = set([\"Ameena Whitehouse\", \"Fariha Good\", \"Sophia-Rose Bowler\", \"Teddie Reid\", \"Hadi Yates\", \"Zoha Stone\", \"Remi Dawe\", \"Rhian Marsh\", \"Teddie Reid\", \"Serena Andrews\", \"Harvir Reader\", \"Zoha Stone\", \"Ashlee Wilde\", \"Jacques Whitmore\", \"Theon Bannister\", \"Emmanuel Owen\", \"Aishah Morrison\", \"Madeleine Calvert\", \"Rhian Marsh\", \"Hadi Yates\", \"Adelina Webster\"])\n",
    "\n",
    "# insert code here"
   ]
  }
 ],
 "metadata": {
  "kernelspec": {
   "display_name": "Python 3",
   "language": "python",
   "name": "python3"
  },
  "language_info": {
   "codemirror_mode": {
    "name": "ipython",
    "version": 3
   },
   "file_extension": ".py",
   "mimetype": "text/x-python",
   "name": "python",
   "nbconvert_exporter": "python",
   "pygments_lexer": "ipython3",
   "version": "3.7.3"
  }
 },
 "nbformat": 4,
 "nbformat_minor": 4
}

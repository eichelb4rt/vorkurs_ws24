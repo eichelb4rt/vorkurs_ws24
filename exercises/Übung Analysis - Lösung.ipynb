{
 "cells": [
  {
   "cell_type": "markdown",
   "metadata": {},
   "source": [
    "# Übung Analysis\n",
    "\n",
    "**Python kann bei vielen der Aufgaben unterstützend helfen.**\n",
    "\n",
    "## Aufgabe 1 \n",
    "Vereinfache\n",
    " 1. $a^3\\cdot a^5 = a^8$,\n",
    " 2. $x^{-1}\\cdot x^2 = x$,\n",
    " 3. $y^\\frac{1}{2}\\cdot y^2 = y^{\\frac{5}{2}}$,\n",
    " 4. $2^x\\cdot 4^x =(2\\cdot 4)^x = 8^x$,\n",
    " 5. $10^{-1}\\cdot\\left(\\frac{1}{2}\\right)^{-1} = \\left({10}\\cdot\\frac{1}{2}\\right)^{-1} = \\frac{10}{2}^{-1} = \\frac{5}{1}^{-1} = \\frac{1}{5}$,\n",
    " 6. $(a^2)^\\frac{1}{2} = a$.\n",
    " \n"
   ]
  },
  {
   "cell_type": "markdown",
   "metadata": {},
   "source": [
    "## Aufgabe 2\n",
    "Führen Sie eine Indexverschiebung durch, so dass der Summationsindex bei $0$ beginnt und berechnen Sie den Wert der Summen, so weit möglich (testen Sie gerne in Python).\n",
    " 1. $\\sum\\limits_{i=2}^n a = \\sum\\limits_{i=0}^{n-2}a=(n-2+1)\\cdot a$\n",
    " 2. $\\sum\\limits_{k=2}^n k^2 = \\sum\\limits_{k=0}^{n-2}(k+2)^2$ die Lösung hierzu in der nächsten Übung\n",
    " 3. $\\sum\\limits_{l=-2}^9 (l-2) = \\sum\\limits_{l=0}^{11}(l-4) =  \\sum\\limits_{l=0}^{11}l - \\sum\\limits_{l=0}^{11}4 = \\frac{11\\cdot 12}{2} - 48 = 66- 48 = 18 $\n",
    " 4. $\\sum\\limits_{m=1}^1 \\ln(m) = \\sum\\limits_{m=0}^0 \\ln(m+1) = \\ln(1) = 0$\n",
    " 5. $\\sum\\limits_{j=1}^m(-1)^j = \\sum\\limits_{j=0}^{m-1}(-1)^{j+1}=\n",
    " \\begin{cases}\n",
    "-1\\text{, falls m ungerade}\\\\\n",
    "0 \\text{, sonst}\n",
    "\\end{cases}$"
   ]
  },
  {
   "cell_type": "code",
   "execution_count": 1,
   "metadata": {},
   "outputs": [
    {
     "name": "stdout",
     "output_type": "stream",
     "text": [
      "18\n",
      "18\n"
     ]
    }
   ],
   "source": [
    "# Überprüfung für 3. \n",
    "summe = 0\n",
    "# die range function geht nur bis 11-1, deshalb die +1\n",
    "for l in range(-2,10):\n",
    "    summe += (l-2)\n",
    "print(summe)\n",
    "summe = 0\n",
    "for l in range(11 + 1):\n",
    "    summe += (l-4)\n",
    "print(summe)    "
   ]
  },
  {
   "cell_type": "markdown",
   "metadata": {},
   "source": [
    "## Aufgabe 3\n",
    "Bestimmen Sie die Lösungsmenge der folgenden Ungleichung.\n",
    "  $$\n",
    "   |x-3|+|x+3|>8.\n",
    "  $$\n",
    "\n",
    "Wir müssen hierzu die verschiedenen Fälle abgehen. Schauen wir zuerst, wann beide Beträge positiv werden.\n",
    "\n",
    "1. Fall $x-3 \\geq 0$ und $x+3 \\geq 0$ daraus folgt $x\\geq 3$.\n",
    "Wir können somit beide Beträge auflösen und die Ungleichung lösen.\n",
    "$$ x-3 + x+3 > 8 \\leftrightarrow 2\\cdot x > 8 \\leftrightarrow x > 4 $$\n",
    "\n",
    "2. Fall $x-3 < 0$ und $x+3 \\geq 0$ daraus folgt $x<3$ und $x >= -3$.\n",
    "Wir können den ersten Betrag nach der Definition negieren und die Ungleichung lösen.\n",
    "$$ -(x-3) + x+3 > 8 \\leftrightarrow -x+3+x+3 > 8\\leftrightarrow 6 > 8 $$\n",
    "Dies ist eine falsche Aussage. Somit kann $x$ nicht in diesem Bereich liegen.\n",
    "\n",
    "3. Fall $x-3< 0$ und $x+3 < 0$ daraus folgt $x< -3$.\n",
    "Wir können somit beide Beträge negieren und damit auflösen und die Ungleichung lösen.\n",
    "$$ -(x-3) + -(x+3) > 8 \\leftrightarrow 2\\cdot -x > 8 \\leftrightarrow x < -4 $$\n",
    "\n",
    "Wir wissen nun, dass $x\\in(-\\infty, -4)\\cup(4,\\infty)$ liegt.\n",
    "  "
   ]
  },
  {
   "cell_type": "code",
   "execution_count": 7,
   "metadata": {},
   "outputs": [
    {
     "data": {
      "text/plain": [
       "[<matplotlib.lines.Line2D at 0x21e4f7456a0>]"
      ]
     },
     "execution_count": 7,
     "metadata": {},
     "output_type": "execute_result"
    },
    {
     "data": {
      "image/png": "[encoded data removed]",
      "text/plain": [
       "<Figure size 432x288 with 1 Axes>"
      ]
     },
     "metadata": {
      "needs_background": "light"
     },
     "output_type": "display_data"
    }
   ],
   "source": [
    "import matplotlib.pyplot as plt\n",
    "import numpy as np\n",
    "\n",
    "def f(x):\n",
    "    return np.abs(x-3)+np.abs(x+3)\n",
    "\n",
    "k = 6\n",
    "\n",
    "plt.plot(np.arange(-k, k), [f(i) for i in np.arange(-k, k)])\n",
    "plt.plot(np.arange(-k, k), [8 for i in np.arange(-k, k)])"
   ]
  },
  {
   "cell_type": "markdown",
   "metadata": {},
   "source": [
    "## Aufgabe 4\n",
    "Berechnen Sie $(5x^3 - 17x^2 + 4x + 6) : (x-3)$ mit Hilfe der Polynomdivision.\n",
    "\n",
    "$$\n",
    "\\begin{align}\n",
    "(&5x^3&-17x^2&+4x+6) : (x-3) = (5x^2-2x-2)\\\\\n",
    "(&5x^3&-15x^2)&\\\\\n",
    "&&(-2x^2&+4x)\\\\\n",
    "&&(-2x^2&+6x)\\\\\n",
    "&&&(-2x+6)\\\\\n",
    "&&&(-2x+6)\\\\\n",
    "\\end{align}\n",
    "$$"
   ]
  },
  {
   "cell_type": "markdown",
   "metadata": {},
   "source": [
    "## Aufgabe 5 \n",
    "Bestimmen Sie den Wert von $x$ für folgende Gleichungen. \n",
    " 1. $2^x\\cdot 8^{x-1} = 32$\n",
    " 2. $\\log_2(x^2) - \\log_2(2x) = 4$\n",
    " 3. $\\sqrt{e^x}=e^6\\cdot e^x$\n",
    "\n",
    "Lösung\n",
    "\n",
    "1. $2^x\\cdot 2^{3(x+1)}=2^{4x-3}=32\\leftrightarrow 4x-3=5\\leftrightarrow x=2$\n",
    "2. $\\log_2(x^2)-\\log_2(2x)=\\log_2(\\frac{x^2}{2x})=4\\leftrightarrow\\log_2(\\frac{x}{2x})=\\log_2(4^2)\n",
    "  \\leftrightarrow\\log_2(\\frac{x}{2\\cdot16})=0\\leftrightarrow\\frac{x}{32}=1\\leftrightarrow x=32$\n",
    "3. $\\sqrt{e^{x}}=e^{\\frac{x}{2}}=e^{6+x}\\leftrightarrow e^{6+x-\\frac{x}{2}}=1\\leftrightarrow 6+\\frac{x}{2}=0\\leftrightarrow x=-12$"
   ]
  },
  {
   "cell_type": "markdown",
   "metadata": {},
   "source": [
    "## Aufgabe 6\n",
    "Seien $a,q\\in\\mathbb{R}, q\\neq 1$ und $n\\in\\mathbb{N}_0$. Beweisen Sie mit Hilfe der vollständigen Induktion folgende Aussage.\n",
    "$$\n",
    "   \\sum_{k=0}^n aq^k = a\\frac{1-q^{n+1}}{1-q}.\n",
    "$$\n",
    "\n",
    "**Induktionsanfang:** Für $n_0=0$ gilt:\n",
    "$$\n",
    "    \\sum_{k=0}^{n_0} aq^k = a\\frac{1-q^{0}}{1-q} = a\\frac{1-q^{0+1}}{1-q}\n",
    "$$\n",
    "Wir sehen, dass für den Wert $n_0=0$ die Aussage gilt. \n",
    "\n",
    "**Induktionsvorraussetzung:** Für ein beliebiges aber festes $m$ gilt\n",
    "$$\n",
    " \\sum_{k=0}^{m} aq^k = a\\frac{1-q^{m}}{1-q}\n",
    "$$\n",
    "\n",
    "**Induktionsbehauptung:** Unter der Annahme, dass die Induktionsvorraussetzung gilt, gilt für $m+1$ \n",
    "$$\n",
    " \\sum_{k=0}^{m+1} aq^k = a\\frac{1-q^{m+1}}{1-q}\n",
    "$$\n",
    "\n",
    "**Induktionsschritt:** Wir zeigen dies, in dem wir die linke Seite der Induktionsbehauptung so umformen, dass wir die Induktionsvorraussetzung einsetzen können und damit die rechte Seite der Induktionsbehauptung erhalten.\n",
    "$$\n",
    "\\begin{align}\n",
    "\\sum\\limits_{k=0}^{n+1}aq^k&=aq^{n+1}+\\sum\\limits_{k=0}^{n}aq^k\\\\\n",
    "&=aq^{n+1}+a\\cfrac{1-q^{n+1}}{1-q}\\\\\n",
    "&=a\\left(q^{n+1}+\\cfrac{1-q^{n+1}}{1-q}\\right)\\\\\n",
    "&=a\\cfrac{q^{n+1}-q^{n+2}+1-q^{n+1}}{1-q}\\\\\n",
    "&=a\\cfrac{1-q^{n+2}}{1-q}\n",
    "\\end{align}\n",
    "$$\n"
   ]
  },
  {
   "cell_type": "markdown",
   "metadata": {},
   "source": [
    "## Aufgabe 7\n",
    "Fassen Sie folgende Summe zusammen und berechnen Sie den Wert (Überprüfe in Python).\n",
    "\n",
    "$$\\sum_{v=2}^{14} (v-1)^2 + \\sum_{w=-2}^8 2\\cdot(w+3) + \\sum_{k=10}^{31} 1$$\n",
    "\n",
    "Für die Lösung müssen wir zuerst einmal alle Indizes auf $0$ verschieben.\n",
    "\n",
    "$$\\sum_{v=0}^{12} (v+1)^2 + \\sum_{w=0}^{10} 2\\cdot(w+1) + \\sum_{k=0}^{21} 1$$\n",
    "\n",
    "Nun können wir die Summen zusammenziehen, aber müssen auf die oberen Grenzen aufpassen (die kleinste ist $10$). Die Indexvariable können wir dazu einfach umbenennen. \n",
    "\n",
    "$$\\sum_{i=0}^{10} ((i+1)^2 + 2\\cdot (i+1) + 1) + \\sum_{i=11}^{12} (i+1)^2 + \\sum_{i=11}^{21} 1$$\n",
    "\n",
    "Wir können die hinteren beiden Termine einfach ausrechnen.\n",
    "\n",
    "$$\\sum_{i=0}^{10} ((i+1)^2 + 2\\cdot (i+1) + 1) + 144 + 169 + 11 = \\sum_{i=0}^{10} ((i+1)^2 + 2\\cdot (i+1) + 1) +324$$\n",
    "\n",
    "Wir können nun sehr einfach in Python testen ob wir dies korrekt getan haben und wir können die Zeit messen. Die Zusammenfassung kann zudem schneller berechnet werden."
   ]
  },
  {
   "cell_type": "code",
   "execution_count": 8,
   "metadata": {},
   "outputs": [
    {
     "name": "stdout",
     "output_type": "stream",
     "text": [
      "Dauer 0.8737049102783203s\n",
      "973\n",
      "Dauer 0.5215544700622559s\n",
      "973\n"
     ]
    }
   ],
   "source": [
    "from time import time\n",
    "\n",
    "n = 100000\n",
    "start = time()\n",
    "for j in range(n):\n",
    "    summe = 0\n",
    "    for v in range(2,15):\n",
    "        summe += (v-1)**2\n",
    "    for w in range(-2,9):\n",
    "        summe += 2*(w+3)\n",
    "    for k in range(10,32):\n",
    "        summe += 1\n",
    "print(f\"Dauer {time()-start}s\")\n",
    "print(summe)\n",
    "\n",
    "start = time()\n",
    "for j in range(n):\n",
    "    summe = 324\n",
    "    for i in range(11):\n",
    "        summe += ((i+1)**2 + 2*(i+1)+1)\n",
    "print(f\"Dauer {time()-start}s\")\n",
    "print(summe)"
   ]
  },
  {
   "cell_type": "markdown",
   "metadata": {},
   "source": [
    "## Aufgabe 8\n",
    "Bestimmen Sie die erste Ableitung der Funktion\n",
    "  $$\n",
    "   f(x) = \\frac{x^3+7}{cos\\left(\\frac{\\pi x}{5}\\right)}\n",
    "  $$\n",
    "  \n",
    "und testen Sie dies in Python mit Hilfe des Differentialquotient\n",
    "\n",
    "$$\n",
    "    f'(x) = \\lim_{e\\rightarrow 0}\\frac{f(x+e)-f(x)}{e}\n",
    "$$\n",
    "\n",
    "für verschiedene Werte.\n",
    "\n",
    "### Lösung\n",
    "\n",
    "Zuerst berechnen wir die Ableitung. Im ersten Schritt nutzen wir die Quotientenregel.\n",
    "$$\n",
    "f'(x) = \\frac{3x^2\\cdot cos\\left(\\frac{\\pi x}{5}\\right) - (x^3+7)\\cdot \\left(cos\\left(\\frac{\\pi x}{5}\\right)\\right)'}{cos\\left(\\frac{\\pi x}{5}\\right)^2}\n",
    "$$\n",
    "\n",
    "Nun müssen wir den fehlenden Term $\\left(cos\\left(\\frac{\\pi x}{5}\\right)\\right)'$ mittels der Kettenregel ableiten. Hierzu benötigen wir, dass die Ableitung von $cos$ gleich $-sin$ ist.\n",
    "\n",
    "$$\n",
    "f'(x) = \\frac{3x^2\\cdot cos\\left(\\frac{\\pi x}{5}\\right) - (x^3+7)\\cdot \\left(-sin\\left(\\frac{\\pi x}{5}\\right)\\cdot \\frac{\\pi}{5}\\right)}{cos\\left(\\frac{\\pi x}{5}\\right)^2}\n",
    "$$"
   ]
  },
  {
   "cell_type": "code",
   "execution_count": 3,
   "metadata": {},
   "outputs": [
    {
     "data": {
      "image/png": "[encoded data removed]",
      "text/plain": [
       "<Figure size 432x288 with 1 Axes>"
      ]
     },
     "metadata": {
      "needs_background": "light"
     },
     "output_type": "display_data"
    }
   ],
   "source": [
    "# Funktionsdefinition\n",
    "def f(x):\n",
    "    return (x**3+7)/np.cos((np.pi * x)/5)\n",
    "\n",
    "# Ableitung\n",
    "def g(x):\n",
    "    return ((3*x**2+7)*np.cos((np.pi * x)/5)+(x**3+7)*np.sin((np.pi * x)/5)*(np.pi)/5)/np.cos((np.pi * x)/5)**2\n",
    "\n",
    "# Differentialquotient\n",
    "def dq(x,e=1e-8):\n",
    "    return (f(x+e)-f(x))/e\n",
    "    \n",
    "# Lets plot it on a scale from -100 to 100\n",
    "plt.plot(np.arange(-100,100), [g(x) for x in np.arange(-100,100)], \"--\")\n",
    "plt.plot(np.arange(-100,100), [dq(x) for x in np.arange(-100,100)], \".\")\n",
    "plt.show()"
   ]
  },
  {
   "cell_type": "markdown",
   "metadata": {},
   "source": [
    "## Aufgabe 9\n",
    "Sei \n",
    "\n",
    "$$\n",
    "f(x) = x^2 + 4+x^3\n",
    "$$\n",
    "\n",
    "berechnen Sie numerisch die Fläche auf dem Intervall $[-2,0]$ mithife von Python."
   ]
  },
  {
   "cell_type": "code",
   "execution_count": 2,
   "metadata": {},
   "outputs": [
    {
     "name": "stdout",
     "output_type": "stream",
     "text": [
      "4.0\n",
      "6.460000000000001\n",
      "6.6466\n",
      "6.668665999999831\n",
      "6.666866659999836\n",
      "6.666646666609472\n"
     ]
    },
    {
     "data": {
      "image/png": "[encoded data removed]",
      "text/plain": [
       "<Figure size 432x288 with 1 Axes>"
      ]
     },
     "metadata": {},
     "output_type": "display_data"
    }
   ],
   "source": [
    "import numpy as np\n",
    "import matplotlib.pyplot as plt\n",
    "\n",
    "def f(x):\n",
    "    return x**2 + 4 + x**3\n",
    "    \n",
    "# draw it in xkcd style\n",
    "interval = 4\n",
    "with plt.xkcd():\n",
    "    plt.plot(np.arange(-interval,interval), [f(i) for i in np.arange(-interval, interval)])\n",
    "\n",
    "# check with different epsilons\n",
    "for eps in range(6):\n",
    "    eps = 1/10**eps\n",
    "    area = 0.0\n",
    "    # area under x=-2\n",
    "    x = -2\n",
    "    # to zero\n",
    "    while x < 0:\n",
    "        area += f(x)*eps\n",
    "        x += eps\n",
    "    print(area)"
   ]
  },
  {
   "cell_type": "code",
   "execution_count": null,
   "metadata": {},
   "outputs": [],
   "source": []
  }
 ],
 "metadata": {
  "kernelspec": {
   "display_name": "Python 3",
   "language": "python",
   "name": "python3"
  },
  "language_info": {
   "codemirror_mode": {
    "name": "ipython",
    "version": 3
   },
   "file_extension": ".py",
   "mimetype": "text/x-python",
   "name": "python",
   "nbconvert_exporter": "python",
   "pygments_lexer": "ipython3",
   "version": "3.12.3"
  }
 },
 "nbformat": 4,
 "nbformat_minor": 4
}
